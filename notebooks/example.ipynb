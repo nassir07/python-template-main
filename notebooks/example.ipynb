{
 "cells": [
  {
   "cell_type": "markdown",
   "id": "c3e60201",
   "metadata": {},
   "source": [
    "# Notebook Example\n",
    "\n",
    "This Jupyter Notebook is part of the `python-template` project."
   ]
  },
  {
   "cell_type": "code",
   "execution_count": null,
   "id": "399c0b3b",
   "metadata": {},
   "outputs": [],
   "source": [
    "# exploratory_data_analysis.ipynb\n",
    "\n",
    "# Import necessary libraries\n",
    "import pandas as pd\n",
    "import matplotlib.pyplot as plt\n",
    "import seaborn as sns"
   ]
  },
  {
   "cell_type": "code",
   "execution_count": null,
   "id": "96e93622",
   "metadata": {},
   "outputs": [],
   "source": [
    "# Load the dataset\n",
    "data_path = '../data/raw/dataset.csv'\n",
    "df = pd.read_csv(data_path)"
   ]
  },
  {
   "cell_type": "code",
   "execution_count": null,
   "id": "824eda09",
   "metadata": {},
   "outputs": [],
   "source": [
    "# Explore the dataset\n",
    "print(df.info())\n",
    "df.head()"
   ]
  },
  {
   "cell_type": "code",
   "execution_count": null,
   "id": "c0f24421",
   "metadata": {},
   "outputs": [],
   "source": [
    "# Basic statistics\n",
    "summary_stats = df.describe()\n",
    "\n",
    "# Data Visualization\n",
    "plt.figure(figsize=(12, 6))"
   ]
  },
  {
   "cell_type": "code",
   "execution_count": null,
   "id": "669a1c8b",
   "metadata": {},
   "outputs": [],
   "source": [
    "# Histogram of a numeric column\n",
    "plt.subplot(1, 2, 1)\n",
    "sns.histplot(df['NumericColumn'], bins=20, kde=True)\n",
    "plt.title('Histogram of NumericColumn')"
   ]
  },
  {
   "cell_type": "code",
   "execution_count": null,
   "id": "ae797a09",
   "metadata": {},
   "outputs": [],
   "source": [
    "# Boxplot of another numeric column\n",
    "plt.subplot(1, 2, 2)\n",
    "sns.boxplot(x=df['CategoryColumn'], y=df['NumericColumn'])\n",
    "plt.title('Boxplot of NumericColumn by CategoryColumn')\n",
    "\n",
    "plt.tight_layout()\n",
    "plt.show()"
   ]
  }
 ],
 "metadata": {
  "kernelspec": {
   "display_name": "Python 3 (ipykernel)",
   "language": "python",
   "name": "python3"
  },
  "language_info": {
   "codemirror_mode": {
    "name": "ipython",
    "version": 3
   },
   "file_extension": ".py",
   "mimetype": "text/x-python",
   "name": "python",
   "nbconvert_exporter": "python",
   "pygments_lexer": "ipython3",
   "version": "3.9.16"
  }
 },
 "nbformat": 4,
 "nbformat_minor": 5
}
